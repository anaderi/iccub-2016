{
 "cells": [
  {
   "cell_type": "code",
   "execution_count": 1,
   "metadata": {
    "collapsed": false
   },
   "outputs": [
    {
     "name": "stderr",
     "output_type": "stream",
     "text": [
      "Using Theano backend.\n"
     ]
    }
   ],
   "source": [
    "%matplotlib inline\n",
    "import numpy as np\n",
    "import pandas as pd\n",
    "import theano\n",
    "import theano.tensor as T\n",
    "import matplotlib.pyplot as plt\n",
    "import keras \n",
    "from sklearn.preprocessing import StandardScaler\n",
    "from sklearn.preprocessing import LabelEncoder \n",
    "from keras.utils import np_utils\n",
    "from sklearn.cross_validation import train_test_split\n",
    "from keras.callbacks import EarlyStopping, ModelCheckpoint\n",
    "from keras.models import Sequential\n",
    "from keras.layers import Dense, Activation\n"
   ]
  },
  {
   "cell_type": "markdown",
   "metadata": {},
   "source": [
    "# Keras\n",
    "\n",
    "## Deep Learning library for Theano and TensorFlow"
   ]
  },
  {
   "cell_type": "markdown",
   "metadata": {},
   "source": [
    "Keras is a minimalist, highly modular neural networks library, written in Python and capable of running on top of either TensorFlow or Theano. It was developed with a focus on enabling fast experimentation. Being able to go from idea to result with the least possible delay is key to doing good research.\n",
    "ref: https://keras.io/"
   ]
  },
  {
   "cell_type": "markdown",
   "metadata": {},
   "source": [
    "## Why this name, Keras?\n",
    "\n",
    "Keras (κέρας) means _horn_ in Greek. It is a reference to a literary image from ancient Greek and Latin literature, first found in the _Odyssey_, where dream spirits (_Oneiroi_, singular _Oneiros_) are divided between those who deceive men with false visions, who arrive to Earth through a gate of ivory, and those who announce a future that will come to pass, who arrive through a gate of horn. It's a play on the words κέρας (horn) / κραίνω (fulfill), and ἐλέφας (ivory) / ἐλεφαίρομαι (deceive).\n",
    "\n",
    "Keras was initially developed as part of the research effort of project ONEIROS (Open-ended Neuro-Electronic Intelligent Robot Operating System).\n",
    "\n",
    ">_\"Oneiroi are beyond our unravelling --who can be sure what tale they tell? Not all that men look for comes to pass. Two gates there are that give passage to fleeting Oneiroi; one is made of horn, one of ivory. The Oneiroi that pass through sawn ivory are deceitful, bearing a message that will not be fulfilled; those that come out through polished horn have truth behind them, to be accomplished for men who see them.\"_ Homer, Odyssey 19. 562 ff (Shewring translation)."
   ]
  },
  {
   "cell_type": "markdown",
   "metadata": {},
   "source": [
    "## Hands On - Keras Logistic Regression\n",
    "#### MNIST dataset"
   ]
  },
  {
   "cell_type": "code",
   "execution_count": 2,
   "metadata": {
    "collapsed": false,
    "scrolled": false
   },
   "outputs": [
    {
     "name": "stdout",
     "output_type": "stream",
     "text": [
      "('y [shape - (360,)]:', array([0, 1, 0, 1, 0, 1, 0, 0, 1, 1]))\n",
      "X [shape - (360, 64)]:\n",
      "[[  0.   0.   5.  13.   9.   1.   0.   0.   0.   0.  13.  15.  10.  15.\n",
      "    5.   0.   0.   3.  15.   2.   0.  11.   8.   0.   0.   4.  12.   0.\n",
      "    0.   8.   8.   0.   0.   5.   8.   0.   0.   9.   8.   0.   0.   4.\n",
      "   11.   0.   1.  12.   7.   0.   0.   2.  14.   5.  10.  12.   0.   0.\n",
      "    0.   0.   6.  13.  10.   0.   0.   0.]\n",
      " [  0.   0.   0.  12.  13.   5.   0.   0.   0.   0.   0.  11.  16.   9.\n",
      "    0.   0.   0.   0.   3.  15.  16.   6.   0.   0.   0.   7.  15.  16.\n",
      "   16.   2.   0.   0.   0.   0.   1.  16.  16.   3.   0.   0.   0.   0.\n",
      "    1.  16.  16.   6.   0.   0.   0.   0.   1.  16.  16.   6.   0.   0.\n",
      "    0.   0.   0.  11.  16.  10.   0.   0.]\n",
      " [  0.   0.   1.   9.  15.  11.   0.   0.   0.   0.  11.  16.   8.  14.\n",
      "    6.   0.   0.   2.  16.  10.   0.   9.   9.   0.   0.   1.  16.   4.\n",
      "    0.   8.   8.   0.   0.   4.  16.   4.   0.   8.   8.   0.   0.   1.\n",
      "   16.   5.   1.  11.   3.   0.   0.   0.  12.  12.  10.  10.   0.   0.\n",
      "    0.   0.   1.  10.  13.   3.   0.   0.]]\n",
      "[0 1 0 1 0 1 0 0 1 1]\n"
     ]
    }
   ],
   "source": [
    "from sklearn.datasets import load_digits\n",
    "digits_mnist = load_digits(2)\n",
    "\n",
    "# from keras.datasets import mnist\n",
    "# (X_train, y_train), (X_test, y_test) = mnist.load_data()\n",
    "\n",
    "X,y = digits_mnist.data, digits_mnist.target\n",
    "\n",
    "print (\"y [shape - %s]:\"%(str(y.shape)),y[:10])\n",
    "\n",
    "print (\"X [shape - %s]:\"%(str(X.shape)))\n",
    "print (X[:3])\n",
    "print (y[:10])"
   ]
  },
  {
   "cell_type": "code",
   "execution_count": 3,
   "metadata": {
    "collapsed": true
   },
   "outputs": [],
   "source": [
    "from sklearn.cross_validation import train_test_split\n",
    "X_train,X_test,y_train,y_test = train_test_split(X,y)"
   ]
  },
  {
   "cell_type": "code",
   "execution_count": 4,
   "metadata": {
    "collapsed": false
   },
   "outputs": [
    {
     "data": {
      "text/plain": [
       "array([[  0.,   0.,   2., ...,   9.,   1.,   0.],\n",
       "       [  0.,   0.,   7., ...,   3.,   0.,   0.],\n",
       "       [  0.,   0.,   4., ...,  11.,   0.,   0.],\n",
       "       ..., \n",
       "       [  0.,   0.,  11., ...,  15.,   0.,   0.],\n",
       "       [  0.,   0.,   6., ...,   0.,   0.,   0.],\n",
       "       [  0.,   0.,   4., ...,   0.,   0.,   0.]])"
      ]
     },
     "execution_count": 4,
     "metadata": {},
     "output_type": "execute_result"
    }
   ],
   "source": [
    "X_test.reshape((len(X_test), np.prod(X_test.shape[1:])))"
   ]
  },
  {
   "cell_type": "code",
   "execution_count": 5,
   "metadata": {
    "collapsed": false
   },
   "outputs": [
    {
     "name": "stdout",
     "output_type": "stream",
     "text": [
      "(64, 'dims')\n",
      "Building model...\n"
     ]
    }
   ],
   "source": [
    "dims = X.shape[1]\n",
    "\n",
    "def build_logistic_regression(dims):\n",
    "    print(dims, 'dims')\n",
    "    print(\"Building model...\")\n",
    "    model = Sequential()\n",
    "    model.add(Dense(1, input_shape=(dims,), init='zero'))\n",
    "    model.add(Activation('sigmoid'))\n",
    "    model.compile(optimizer='sgd', loss='binary_crossentropy')\n",
    "    return model\n",
    "model = build_logistic_regression(dims)"
   ]
  },
  {
   "cell_type": "code",
   "execution_count": 6,
   "metadata": {
    "collapsed": false
   },
   "outputs": [
    {
     "data": {
      "text/plain": [
       "[array([[ 0.],\n",
       "        [ 0.],\n",
       "        [ 0.],\n",
       "        [ 0.],\n",
       "        [ 0.],\n",
       "        [ 0.],\n",
       "        [ 0.],\n",
       "        [ 0.],\n",
       "        [ 0.],\n",
       "        [ 0.],\n",
       "        [ 0.],\n",
       "        [ 0.],\n",
       "        [ 0.],\n",
       "        [ 0.],\n",
       "        [ 0.],\n",
       "        [ 0.],\n",
       "        [ 0.],\n",
       "        [ 0.],\n",
       "        [ 0.],\n",
       "        [ 0.],\n",
       "        [ 0.],\n",
       "        [ 0.],\n",
       "        [ 0.],\n",
       "        [ 0.],\n",
       "        [ 0.],\n",
       "        [ 0.],\n",
       "        [ 0.],\n",
       "        [ 0.],\n",
       "        [ 0.],\n",
       "        [ 0.],\n",
       "        [ 0.],\n",
       "        [ 0.],\n",
       "        [ 0.],\n",
       "        [ 0.],\n",
       "        [ 0.],\n",
       "        [ 0.],\n",
       "        [ 0.],\n",
       "        [ 0.],\n",
       "        [ 0.],\n",
       "        [ 0.],\n",
       "        [ 0.],\n",
       "        [ 0.],\n",
       "        [ 0.],\n",
       "        [ 0.],\n",
       "        [ 0.],\n",
       "        [ 0.],\n",
       "        [ 0.],\n",
       "        [ 0.],\n",
       "        [ 0.],\n",
       "        [ 0.],\n",
       "        [ 0.],\n",
       "        [ 0.],\n",
       "        [ 0.],\n",
       "        [ 0.],\n",
       "        [ 0.],\n",
       "        [ 0.],\n",
       "        [ 0.],\n",
       "        [ 0.],\n",
       "        [ 0.],\n",
       "        [ 0.],\n",
       "        [ 0.],\n",
       "        [ 0.],\n",
       "        [ 0.],\n",
       "        [ 0.]], dtype=float32), array([ 0.], dtype=float32)]"
      ]
     },
     "execution_count": 6,
     "metadata": {},
     "output_type": "execute_result"
    }
   ],
   "source": [
    "model.get_weights()"
   ]
  },
  {
   "cell_type": "markdown",
   "metadata": {},
   "source": [
    "## Model building\n",
    "\n",
    "The `Sequential` model is a linear stack of layers.\n",
    "You can also simply add layers via the `.add()` method:\n",
    "\n",
    "```python\n",
    "model = Sequential()\n",
    "model.add(Dense(32, input_dim=784))\n",
    "model.add(Activation('relu'))\n",
    "```\n",
    "\n",
    "Before training a model, you need to configure the learning process, which is done via the `compile` method.\n",
    "\n",
    "```\n",
    "# for a binary classification problem\n",
    "model.compile(optimizer='rmsprop',\n",
    "              loss='binary_crossentropy',\n",
    "              metrics=['accuracy'])\n",
    "```"
   ]
  },
  {
   "cell_type": "markdown",
   "metadata": {},
   "source": [
    "## Training loop\n",
    "\n",
    "* You can now train tour neural network by sampling minibatches from dataset and updating weights with chosen optimizer\n",
    "* A size of minibatch (batch_size) is how many samples are used to compute stochastic gradient on each iteration.\n",
    "    * (rule of thumb) more batch_size = slower, but more stable training\n",
    "* The training time is usually measured in epochs: one epoch is a single full pass over training set.\n",
    "    * If you have 200000 samples and batch_size=500, than 1 epoch = 200000/500 = 400 minibatch iterations\n",
    "* You can interrupt and re-run training procedure as many times as you want. \n",
    "    * The training progress will be kept between `model.fit` calls until you recreate the whole model.\n",
    "    * Sometimes model can \"freeze\" if you interrupt training half-way through execution\n"
   ]
  },
  {
   "cell_type": "code",
   "execution_count": 7,
   "metadata": {
    "collapsed": false
   },
   "outputs": [
    {
     "name": "stdout",
     "output_type": "stream",
     "text": [
      "('train AUC:', 0.5)\n",
      "Epoch 1/5\n",
      "270/270 [==============================] - 0s - loss: 0.5236     \n",
      "Epoch 2/5\n",
      "270/270 [==============================] - 0s - loss: 0.2203     \n",
      "Epoch 3/5\n",
      "270/270 [==============================] - 0s - loss: 0.0189     \n",
      "Epoch 4/5\n",
      "270/270 [==============================] - 0s - loss: 0.0169     \n",
      "Epoch 5/5\n",
      "270/270 [==============================] - 0s - loss: 0.0147     \n"
     ]
    },
    {
     "data": {
      "text/plain": [
       "<keras.callbacks.History at 0x7f3df021e190>"
      ]
     },
     "execution_count": 7,
     "metadata": {},
     "output_type": "execute_result"
    }
   ],
   "source": [
    "from sklearn.metrics import roc_auc_score\n",
    "print (\"train AUC:\", roc_auc_score(y_train, model.predict(X_train)))\n",
    "model.fit(X_train, y_train, batch_size=128, nb_epoch=5)"
   ]
  },
  {
   "cell_type": "code",
   "execution_count": 8,
   "metadata": {
    "collapsed": false
   },
   "outputs": [
    {
     "name": "stdout",
     "output_type": "stream",
     "text": [
      "('train AUC:', 1.0)\n",
      "('val AUC:', 1.0)\n"
     ]
    }
   ],
   "source": [
    "print (\"train AUC:\", roc_auc_score(y_train, model.predict(X_train)))\n",
    "print (\"val AUC:\", roc_auc_score(y_test, model.predict(X_test)))"
   ]
  },
  {
   "cell_type": "markdown",
   "metadata": {},
   "source": [
    "# Evaluation"
   ]
  },
  {
   "cell_type": "code",
   "execution_count": 9,
   "metadata": {
    "collapsed": false
   },
   "outputs": [],
   "source": [
    "from sklearn.metrics import roc_auc_score,accuracy_score,roc_curve\n",
    "\n",
    "def display_results(model,X,y):\n",
    "    \n",
    "    val_proba = model.predict_proba(X,verbose=0)\n",
    "    \n",
    "    print (\"Area under ROC = %.5f\"%roc_auc_score(y,val_proba[:,-1]))\n",
    "    print (\"Accuracy @0.5  = %.5f\"%accuracy_score(y,val_proba[:,-1]>0.5))\n",
    "    \n",
    "    plt.plot(*roc_curve(y,val_proba[:,-1])[:2], lw=3)\n",
    "    plt.xlabel(\"1 - background rejection\")\n",
    "    plt.ylabel(\"Signal efficiency\")\n",
    "    plt.grid()\n"
   ]
  },
  {
   "cell_type": "code",
   "execution_count": 10,
   "metadata": {
    "collapsed": false
   },
   "outputs": [
    {
     "name": "stdout",
     "output_type": "stream",
     "text": [
      "Training metrics\n",
      "Area under ROC = 1.00000\n",
      "Accuracy @0.5  = 1.00000\n"
     ]
    },
    {
     "data": {
      "image/png": "[encoded data removed]",
      "text/plain": [
       "<matplotlib.figure.Figure at 0x7f3df021ec90>"
      ]
     },
     "metadata": {},
     "output_type": "display_data"
    }
   ],
   "source": [
    "print (\"Training metrics\")\n",
    "display_results(model,X_train,y_train)"
   ]
  },
  {
   "cell_type": "code",
   "execution_count": 11,
   "metadata": {
    "collapsed": false,
    "scrolled": true
   },
   "outputs": [
    {
     "name": "stdout",
     "output_type": "stream",
     "text": [
      "Validation metrics\n",
      "Area under ROC = 1.00000\n",
      "Accuracy @0.5  = 1.00000\n"
     ]
    },
    {
     "data": {
      "image/png": "[encoded data removed]",
      "text/plain": [
       "<matplotlib.figure.Figure at 0x7f3deeb5e9d0>"
      ]
     },
     "metadata": {},
     "output_type": "display_data"
    }
   ],
   "source": [
    "print (\"Validation metrics\")\n",
    "display_results(model,X_test,y_test)"
   ]
  },
  {
   "cell_type": "markdown",
   "metadata": {},
   "source": [
    "## Examining & Saving\n",
    "\n",
    "- `model.summary()`: prints a summary representation of your model.\n",
    "- `model.get_config()`: returns a dictionary containing the configuration of the model.\n",
    "\n",
    "- `model.get_weights()`: returns a list of all weight tensors in the model, as Numpy arrays.\n",
    "- `model.set_weights(weights)`: sets the values of the weights of the model, from a list of Numpy arrays. The arrays in the list should have the same shape as those returned by `get_weights()`.\n",
    "- `model.to_json()`: returns a representation of the model as a JSON string. \n",
    "- `model.save_weights(filepath)`: saves the weights of the model as a HDF5 file.\n",
    "- `model.load_weights(filepath, by_name=False)`: loads the weights of the model from a HDF5 file"
   ]
  },
  {
   "cell_type": "code",
   "execution_count": 12,
   "metadata": {
    "collapsed": false
   },
   "outputs": [
    {
     "name": "stdout",
     "output_type": "stream",
     "text": [
      "____________________________________________________________________________________________________\n",
      "Layer (type)                     Output Shape          Param #     Connected to                     \n",
      "====================================================================================================\n",
      "dense_1 (Dense)                  (None, 1)             65          dense_input_1[0][0]              \n",
      "____________________________________________________________________________________________________\n",
      "activation_1 (Activation)        (None, 1)             0           dense_1[0][0]                    \n",
      "====================================================================================================\n",
      "Total params: 65\n",
      "____________________________________________________________________________________________________\n"
     ]
    }
   ],
   "source": [
    "model.summary()"
   ]
  },
  {
   "cell_type": "code",
   "execution_count": 13,
   "metadata": {
    "collapsed": false
   },
   "outputs": [
    {
     "data": {
      "text/plain": [
       "[array([[  0.00000000e+00],\n",
       "        [ -1.31502602e-04],\n",
       "        [ -7.54185952e-03],\n",
       "        [ -3.19138020e-02],\n",
       "        [ -8.25646427e-03],\n",
       "        [  3.41809727e-02],\n",
       "        [  1.33068748e-02],\n",
       "        [  0.00000000e+00],\n",
       "        [  0.00000000e+00],\n",
       "        [ -4.64706495e-03],\n",
       "        [ -4.95798327e-02],\n",
       "        [ -1.84192311e-03],\n",
       "        [  1.51339276e-02],\n",
       "        [ -1.04541266e-02],\n",
       "        [  1.00164004e-02],\n",
       "        [  0.00000000e+00],\n",
       "        [  5.89268981e-04],\n",
       "        [ -1.11647630e-02],\n",
       "        [ -3.52957882e-02],\n",
       "        [  7.00600892e-02],\n",
       "        [  7.88193867e-02],\n",
       "        [ -2.85383984e-02],\n",
       "        [ -1.73785016e-02],\n",
       "        [  0.00000000e+00],\n",
       "        [  2.94634490e-04],\n",
       "        [ -1.54800825e-02],\n",
       "        [ -1.47648035e-02],\n",
       "        [  8.72897357e-02],\n",
       "        [  9.84108672e-02],\n",
       "        [ -1.69817470e-02],\n",
       "        [ -3.97809744e-02],\n",
       "        [  0.00000000e+00],\n",
       "        [  0.00000000e+00],\n",
       "        [ -2.80812364e-02],\n",
       "        [ -3.53203453e-02],\n",
       "        [  6.78759217e-02],\n",
       "        [  9.56240818e-02],\n",
       "        [ -2.41466798e-02],\n",
       "        [ -4.50040624e-02],\n",
       "        [  0.00000000e+00],\n",
       "        [  0.00000000e+00],\n",
       "        [ -1.72470156e-02],\n",
       "        [ -5.93447797e-02],\n",
       "        [  4.84568551e-02],\n",
       "        [  7.77870268e-02],\n",
       "        [ -3.76659930e-02],\n",
       "        [ -3.64689194e-02],\n",
       "        [  0.00000000e+00],\n",
       "        [  0.00000000e+00],\n",
       "        [ -3.81965679e-03],\n",
       "        [ -5.55842966e-02],\n",
       "        [  1.94658525e-04],\n",
       "        [  2.19899341e-02],\n",
       "        [ -3.44534032e-02],\n",
       "        [  2.79509183e-03],\n",
       "        [  4.06843517e-03],\n",
       "        [  0.00000000e+00],\n",
       "        [  3.88187400e-05],\n",
       "        [ -8.71800352e-03],\n",
       "        [ -3.35453898e-02],\n",
       "        [ -4.49245237e-03],\n",
       "        [  3.09914742e-02],\n",
       "        [  3.17729823e-02],\n",
       "        [  1.84395853e-02]], dtype=float32),\n",
       " array([ 0.00051366], dtype=float32)]"
      ]
     },
     "execution_count": 13,
     "metadata": {},
     "output_type": "execute_result"
    }
   ],
   "source": [
    "model.get_weights()"
   ]
  },
  {
   "cell_type": "markdown",
   "metadata": {},
   "source": [
    "## Callbacks\n",
    "\n",
    "A callback is a set of functions to be applied at given stages of the training procedure. You can use callbacks to get a view on internal states and statistics of the model during training. You can pass a list of callbacks (as the keyword argument "
   ]
  },
  {
   "cell_type": "code",
   "execution_count": 14,
   "metadata": {
    "collapsed": true
   },
   "outputs": [],
   "source": [
    "class AucHistory(keras.callbacks.Callback):\n",
    "    def __init__(self, X_train=None, y_train=None):\n",
    "        self.X_train = X_train\n",
    "        self.y_train = y_train\n",
    "        \n",
    "    def on_train_begin(self, logs={}):\n",
    "        self.aucs = []\n",
    "        self.train_aucs = []\n",
    "        self.losses = []\n",
    " \n",
    "    def on_epoch_end(self, epoch, logs={}):\n",
    "        self.losses.append(logs.get('loss'))\n",
    "        if self.model.validation_data is not None:\n",
    "            y_pred = self.model.predict(self.model.validation_data[0])\n",
    "            self.aucs.append(roc_auc_score(self.model.validation_data[1], y_pred))\n",
    "        if self.X_train is not None:\n",
    "            y_pred = self.model.predict(self.X_train)\n",
    "            self.train_aucs.append(roc_auc_score(self.y_train, y_pred))\n",
    "        return"
   ]
  },
  {
   "cell_type": "code",
   "execution_count": 15,
   "metadata": {
    "collapsed": false
   },
   "outputs": [
    {
     "name": "stdout",
     "output_type": "stream",
     "text": [
      "(64, 'dims')\n",
      "Building model...\n",
      "Train on 270 samples, validate on 90 samples\n",
      "Epoch 1/5\n",
      "270/270 [==============================] - 0s - loss: 0.6931 - val_loss: 0.1336\n",
      "Epoch 2/5\n",
      "270/270 [==============================] - 0s - loss: 0.1236 - val_loss: 0.1072\n",
      "Epoch 3/5\n",
      "270/270 [==============================] - 0s - loss: 0.0937 - val_loss: 0.0785\n",
      "Epoch 4/5\n",
      "270/270 [==============================] - 0s - loss: 0.0757 - val_loss: 0.0699\n",
      "Epoch 5/5\n",
      "270/270 [==============================] - 0s - loss: 0.0628 - val_loss: 0.0568\n"
     ]
    },
    {
     "data": {
      "text/plain": [
       "<keras.callbacks.History at 0x7f3dedd71850>"
      ]
     },
     "execution_count": 15,
     "metadata": {},
     "output_type": "execute_result"
    }
   ],
   "source": [
    "auc_history = AucHistory()\n",
    "model = build_logistic_regression(dims)\n",
    "model.reset_states()\n",
    "model.fit(X_train, y_train, nb_epoch=5, callbacks=[auc_history], \n",
    "          validation_data=(X_test, y_test), batch_size=500)"
   ]
  },
  {
   "cell_type": "code",
   "execution_count": 16,
   "metadata": {
    "collapsed": false
   },
   "outputs": [
    {
     "data": {
      "image/png": "[encoded data removed]",
      "text/plain": [
       "<matplotlib.figure.Figure at 0x7f3de52d4110>"
      ]
     },
     "metadata": {},
     "output_type": "display_data"
    }
   ],
   "source": [
    "_ = plt.plot(auc_history.aucs, lw=3)"
   ]
  },
  {
   "cell_type": "markdown",
   "metadata": {
    "collapsed": true
   },
   "source": [
    "## Playground\n",
    "\n",
    "- https://transcranial.github.io/keras-js/\n",
    "- http://playground.tensorflow.org/"
   ]
  },
  {
   "cell_type": "code",
   "execution_count": null,
   "metadata": {
    "collapsed": true
   },
   "outputs": [],
   "source": []
  }
 ],
 "metadata": {
  "kernelspec": {
   "display_name": "Python 3",
   "language": "python",
   "name": "python3"
  },
  "language_info": {
   "codemirror_mode": {
    "name": "ipython",
    "version": 3
   },
   "file_extension": ".py",
   "mimetype": "text/x-python",
   "name": "python",
   "nbconvert_exporter": "python",
   "pygments_lexer": "ipython3",
   "version": "3.5.2"
  }
 },
 "nbformat": 4,
 "nbformat_minor": 0
}
