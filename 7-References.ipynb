{
 "cells": [
  {
   "cell_type": "markdown",
   "metadata": {},
   "source": [
    "## So long and thanks for the fish"
   ]
  },
  {
   "cell_type": "markdown",
   "metadata": {
    "slideshow": {
     "slide_type": "subslide"
    }
   },
   "source": [
    "* Keras is a powerful and battery-included framework for Deep Learning in Python\n",
    "\n",
    "* Keras is **simple** to use..\n",
    "\n",
    "* ...but it is **not** for simple things!"
   ]
  },
  {
   "cell_type": "markdown",
   "metadata": {},
   "source": [
    "#### Points of interest for further exploration\n",
    "\n",
    "- Recurrent Neural Nets, http://colah.github.io/posts/2015-08-Understanding-LSTMs/\n",
    "- Convolutional Neural Nets, http://colah.github.io/posts/2014-07-Conv-Nets-Modular/, http://colah.github.io/posts/2014-07-Understanding-Convolutions/\n",
    "- Official Theano tutorial, http://deeplearning.net/software/theano/tutorial/\n",
    "- More autoencoding, https://blog.keras.io/building-autoencoders-in-keras.html\n",
    "- Rethinking the Inception Architecture for Computer Vision, http://arxiv.org/abs/1512.00567\n",
    "- Going deeper with convolutions, http://www.cv-foundation.org/openaccess/content_cvpr_2015/papers/Szegedy_Going_Deeper_With_2015_CVPR_paper.pdf\n",
    "-  Online text http://neuralnetworksanddeeplearning.com/. The book is highly recommended.\n",
    "- Course by NVIDIA, http://devblogs.nvidia.com/parallelforall/deep-learning-nutshell-core-concepts/"
   ]
  },
  {
   "cell_type": "markdown",
   "metadata": {
    "slideshow": {
     "slide_type": "fragment"
    }
   },
   "source": [
    "#### Cutting Edge\n",
    "\n",
    "* Fractal Net Implementation with Keras: https://github.com/snf/keras-fractalnet -\n",
    "* Please check out: [https://github.com/fchollet/keras-resources]()"
   ]
  },
  {
   "cell_type": "markdown",
   "metadata": {
    "slideshow": {
     "slide_type": "fragment"
    }
   },
   "source": [
    "#### Hyper-Cool\n",
    "\n",
    "* Hyperas: https://github.com/maxpumperla/hyperas\n",
    "    - A web dashboard for Keras Models\n",
    "* http://cs.stanford.edu/people/karpathy/convnetjs/index.html"
   ]
  },
  {
   "cell_type": "code",
   "execution_count": null,
   "metadata": {
    "collapsed": true
   },
   "outputs": [],
   "source": []
  },
  {
   "cell_type": "markdown",
   "metadata": {},
   "source": [
    "### Huge thanks to\n",
    "\n",
    "- Alexey Rogozhnikov (https://github.com/arogozhnikov)\n",
    "- Alexander Panin (https://github.com/justheuristic)\n",
    "- Valerio Maggio and Yam Peleg (https://github.com/leriomaggio/)\n",
    "- Francois Collet (https://github.com/fchollet)\n",
    "- Rafal Jozefowicz (https://github.com/rafaljozefowicz)"
   ]
  },
  {
   "cell_type": "code",
   "execution_count": null,
   "metadata": {
    "collapsed": true
   },
   "outputs": [],
   "source": []
  }
 ],
 "metadata": {
  "kernelspec": {
   "display_name": "Python 3",
   "language": "python",
   "name": "python3"
  },
  "language_info": {
   "codemirror_mode": {
    "name": "ipython",
    "version": 3
   },
   "file_extension": ".py",
   "mimetype": "text/x-python",
   "name": "python",
   "nbconvert_exporter": "python",
   "pygments_lexer": "ipython3",
   "version": "3.5.2"
  }
 },
 "nbformat": 4,
 "nbformat_minor": 0
}
